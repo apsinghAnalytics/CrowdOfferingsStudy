{
 "cells": [
  {
   "cell_type": "markdown",
   "metadata": {},
   "source": [
    "# Crowd Funding Study Data Cleaning"
   ]
  },
  {
   "cell_type": "code",
   "execution_count": null,
   "metadata": {},
   "outputs": [],
   "source": [
    "import pandas as pd\n",
    "import numpy as np\n",
    "import matplotlib.pyplot as plt\n",
    "import seaborn as sns\n",
    "import datetime as dt\n"
   ]
  },
  {
   "cell_type": "code",
   "execution_count": null,
   "metadata": {},
   "outputs": [],
   "source": [
    "pd.set_option('display.max_columns', None) #display all columns in jupyter\n",
    "df= pd.read_excel('scrapedCrowdOfferingsData.xlsx',index_col=None)"
   ]
  },
  {
   "cell_type": "code",
   "execution_count": null,
   "metadata": {},
   "outputs": [],
   "source": [
    "df.dtypes"
   ]
  },
  {
   "cell_type": "markdown",
   "metadata": {},
   "source": [
    "A lot of the object column types e.g. compensationAmount, financialInterest, intuitively should be numerical columns so let's look into object columns with more detail"
   ]
  },
  {
   "cell_type": "code",
   "execution_count": null,
   "metadata": {},
   "outputs": [],
   "source": [
    "df.select_dtypes(['object'])"
   ]
  },
  {
   "cell_type": "code",
   "execution_count": null,
   "metadata": {},
   "outputs": [],
   "source": [
    "df[~(df['financialInterest'].isna() | (df['financialInterest']== 'None.') | (df['financialInterest']== 'No') )]\n",
    "df.head(5)"
   ]
  },
  {
   "cell_type": "code",
   "execution_count": null,
   "metadata": {},
   "outputs": [],
   "source": [
    "df[df['progressUpdate'].notna()].head(5)"
   ]
  },
  {
   "cell_type": "markdown",
   "metadata": {},
   "source": [
    "- date column needs to be converted to datetime\n",
    "- Seems like compensation amount, priceDeterminationMethod is in text form, and there is no clear uniform consistency to extract features from.\n",
    "- The financial interest is also in text form, but a derived boolean column in the form of yes/no to include this feature in model if need be later while modeling\n",
    "- Cardinality of objectcolumns needs to be determined in order to determine their usefulness for building a model\n",
    "- Progress update is in text form but seems like this is where the data for raisedOfferingAmount would come for after some processing"
   ]
  },
  {
   "cell_type": "code",
   "execution_count": null,
   "metadata": {},
   "outputs": [],
   "source": [
    "pd.set_option('display.max_rows', 50) #display 100 rows\n",
    "df['dateIncorporation']= pd.to_datetime(df['dateIncorporation']).dt.date #converting to datetime type\n",
    "cardinality= df.select_dtypes(['object']).nunique()\n",
    "print(cardinality)\n"
   ]
  },
  {
   "cell_type": "code",
   "execution_count": null,
   "metadata": {},
   "outputs": [],
   "source": [
    "pd.set_option('display.max_rows', None) #display 100 rows\n",
    "(df.isna().sum()/len(df))*100 #percentage of nan values in each column"
   ]
  },
  {
   "cell_type": "markdown",
   "metadata": {},
   "source": [
    "### Interesting observations\n",
    "- each of the financials have 6.5% of the total values are Nan indicated a system trend\n",
    "- No missing values in isAmendment, submissionType, so these can be used as filters\n",
    "- issuerCIK and issuerName are both have same percentage of missing values, indicating that in a record both these fields are likely missing together\n",
    "- Some categorical columns can be dropped if cardinality or if the no of missing values are high: ['compensationAmount', 'financialInterest',\n",
    "       'securityOfferedOtherDesc', 'priceDeterminationMethod', 'oversubscriptionDesc', 'natureOfAmendment', 'legalStatusOtherDesc','jurisdictionOrganization',\n",
    "       'city','zipCode', 'issuerWebsite']"
   ]
  },
  {
   "cell_type": "code",
   "execution_count": null,
   "metadata": {},
   "outputs": [],
   "source": [
    "columns_to_drop= ['compensationAmount', 'financialInterest','securityOfferedOtherDesc', 'priceDeterminationMethod', 'oversubscriptionDesc', 'natureOfAmendment', 'legalStatusOtherDesc'\n",
    ",'jurisdictionOrganization','city','zipCode', 'issuerWebsite']\n",
    "df_clean= df.drop(columns=columns_to_drop, axis=1)\n"
   ]
  },
  {
   "cell_type": "code",
   "execution_count": null,
   "metadata": {},
   "outputs": [],
   "source": [
    "df_clean[df_clean['isAmendment']== 0] #has only 2 values 0 and 1 and no null values\n"
   ]
  }
 ],
 "metadata": {
  "kernelspec": {
   "display_name": "Python 3 (ipykernel)",
   "language": "python",
   "name": "python3"
  },
  "language_info": {
   "codemirror_mode": {
    "name": "ipython",
    "version": 3
   },
   "file_extension": ".py",
   "mimetype": "text/x-python",
   "name": "python",
   "nbconvert_exporter": "python",
   "pygments_lexer": "ipython3",
   "version": "3.8.11"
  },
  "vscode": {
   "interpreter": {
    "hash": "63f19d9e8b751f97c35bb744d61cd4b3fd9252631267dd61aaf6e333d927fd0e"
   }
  }
 },
 "nbformat": 4,
 "nbformat_minor": 2
}
